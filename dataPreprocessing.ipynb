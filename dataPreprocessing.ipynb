{
  "nbformat": 4,
  "nbformat_minor": 0,
  "metadata": {
    "colab": {
      "provenance": [],
      "include_colab_link": true
    },
    "kernelspec": {
      "name": "python3",
      "display_name": "Python 3"
    },
    "language_info": {
      "name": "python"
    }
  },
  "cells": [
    {
      "cell_type": "markdown",
      "metadata": {
        "id": "view-in-github",
        "colab_type": "text"
      },
      "source": [
        "<a href=\"https://colab.research.google.com/github/achakraborty20/wcc_hackathon/blob/main/dataPreprocessing.ipynb\" target=\"_parent\"><img src=\"https://colab.research.google.com/assets/colab-badge.svg\" alt=\"Open In Colab\"/></a>"
      ]
    },
    {
      "cell_type": "code",
      "execution_count": null,
      "metadata": {
        "colab": {
          "base_uri": "https://localhost:8080/"
        },
        "id": "BiZ1smqGkCw5",
        "outputId": "11232072-ec4e-4de0-a28a-2905e3ae2da8"
      },
      "outputs": [
        {
          "output_type": "stream",
          "name": "stderr",
          "text": [
            "Cloning into 'wcc_hackathon'...\n"
          ]
        }
      ],
      "source": [
        "#cloning repo\n",
        "%%bash\n",
        "git clone https://github.com/achakraborty20/wcc_hackathon.git"
      ]
    },
    {
      "cell_type": "code",
      "source": [
        "import pandas as pd\n",
        "\n",
        "csv_path = '/content/wcc_hackathon/US 2014-2018 ACS 5-Year EEO Estimates .csv'\n",
        "data = pd.read_csv(csv_path)\n",
        "print(data.head())"
      ],
      "metadata": {
        "colab": {
          "base_uri": "https://localhost:8080/"
        },
        "id": "klxlHLytqIcP",
        "outputId": "f69386e4-7c41-431e-a520-b62bc0135b88"
      },
      "execution_count": null,
      "outputs": [
        {
          "output_type": "stream",
          "name": "stdout",
          "text": [
            "<class 'pandas.core.frame.DataFrame'>\n",
            "                                Occupation         Gender        Total  \\\n",
            "0  Total, all occupations : 00-0000 / 0000          Total  105,549,805   \n",
            "1                  Total, all occupations            Male   60,353,270   \n",
            "2                  Total, all occupations          Female   45,196,535   \n",
            "3  Total, all occupations : 00-0000 / 0000  Percent Total       100.0%   \n",
            "4  Total, all occupations : 00-0000 / 0000   Percent Male        57.2%   \n",
            "\n",
            "  Hispanic or Latino       White Black or African American  \\\n",
            "0         17,491,765  67,613,630                11,722,135   \n",
            "1         10,768,830  39,116,555                 5,628,030   \n",
            "2          6,722,935  28,497,075                 6,094,100   \n",
            "3              16.6%       64.1%                     11.1%   \n",
            "4              10.2%       37.1%                      5.3%   \n",
            "\n",
            "  American Indian /Alaska Native      Asian Native Hawaiian /Pacific Islander  \n",
            "0                        540,030  6,105,890                           173,150  \n",
            "1                        282,545  3,428,190                            95,080  \n",
            "2                        257,490  2,677,700                            78,070  \n",
            "3                           0.5%       5.8%                              0.2%  \n",
            "4                           0.3%       3.2%                              0.1%  \n"
          ]
        }
      ]
    },
    {
      "cell_type": "code",
      "source": [
        "to_drop = data[(data['Gender'] == \"Total\") | (data['Gender'] == \"Male\") | (data['Gender'] == \"Female\") | (data['Gender'] == \"Mean Earnings - Both Sexes\") | (data['Gender'] == \"Mean Earnings - Male\") | (data['Gender'] == \"Mean Earnings - Female\")].index\n",
        "data.drop(to_drop, inplace=True)\n",
        "print(data.head())"
      ],
      "metadata": {
        "colab": {
          "base_uri": "https://localhost:8080/"
        },
        "id": "yx6uzYga-SY4",
        "outputId": "eb541d61-a001-44ac-d915-161d1442b10f"
      },
      "execution_count": null,
      "outputs": [
        {
          "output_type": "stream",
          "name": "stdout",
          "text": [
            "                                Occupation                        Gender  \\\n",
            "3  Total, all occupations : 00-0000 / 0000                 Percent Total   \n",
            "4  Total, all occupations : 00-0000 / 0000                  Percent Male   \n",
            "5  Total, all occupations : 00-0000 / 0000                Percent Female   \n",
            "6  Total, all occupations : 00-0000 / 0000  Median Earnings - Both Sexes   \n",
            "7  Total, all occupations : 00-0000 / 0000        Median Earnings - Male   \n",
            "\n",
            "          Total Hispanic or Latino         White Black or African American  \\\n",
            "3        100.0%              16.6%         64.1%                     11.1%   \n",
            "4         57.2%              10.2%         37.1%                      5.3%   \n",
            "5         42.8%               6.4%         27.0%                      5.8%   \n",
            "6  $ 47,758.00        $ 34,413.00   $ 52,869.00               $ 38,442.00    \n",
            "7  $ 52,583.00        $ 36,376.00   $ 59,243.00               $ 40,877.00    \n",
            "\n",
            "  American Indian /Alaska Native         Asian  \\\n",
            "3                           0.5%          5.8%   \n",
            "4                           0.3%          3.2%   \n",
            "5                           0.2%          2.5%   \n",
            "6                   $ 37,295.00   $ 60,520.00    \n",
            "7                   $ 40,849.00   $ 66,876.00    \n",
            "\n",
            "  Native Hawaiian /Pacific Islander  \n",
            "3                              0.2%  \n",
            "4                              0.1%  \n",
            "5                              0.1%  \n",
            "6                      $ 39,783.00   \n",
            "7                      $ 42,228.00   \n"
          ]
        }
      ]
    },
    {
      "cell_type": "code",
      "source": [
        "#occupation formatting, create a list of all unique occupations, genders, and races\n",
        "\n",
        "def remove_opp_code(occupation):\n",
        "    return occupation[:-17]\n",
        "\n",
        "data['Occupation'] = data['Occupation'].apply(remove_opp_code)\n",
        "\n",
        "list_occupations = pd.unique(data['Occupation'])[:-1]\n",
        "print(list_occupations)\n",
        "gender_options = ['Total', 'Male', 'Female']\n",
        "race_options = ['Hispanic or Latino', 'White', 'Black or African American', 'American Indian /Alaska Native', 'Asian', 'Native Hawaiian /Pacific Islander']"
      ],
      "metadata": {
        "id": "2qpyy6rJbxid",
        "colab": {
          "base_uri": "https://localhost:8080/"
        },
        "outputId": "ab74be4f-cd51-4f80-fa8f-fd71a20623b6"
      },
      "execution_count": 8,
      "outputs": [
        {
          "output_type": "stream",
          "name": "stdout",
          "text": [
            "['Total, all occupations' 'Total,' 'Top executives'\n",
            " 'Advertising, marketing, promotions, public relations, and sales managers'\n",
            " 'Administrative services and facilities managers'\n",
            " 'Computer and information systems managers' 'Financial managers'\n",
            " 'Compensation and benefits managers' 'Human resources managers'\n",
            " 'Training and development managers' 'Industrial production managers'\n",
            " 'Purchasing managers'\n",
            " 'Transportation, storage, and distribution managers'\n",
            " 'Farmers, ranchers, and other agricultural managers'\n",
            " 'Construction managers' 'Education and childcare administrators'\n",
            " 'Architectural and engineering managers' 'Food service managers'\n",
            " 'Entertainment and recreation managers' 'Lodging managers'\n",
            " 'Medical and health services managers' 'Natural sciences managers'\n",
            " 'Property, real estate, and community association managers'\n",
            " 'Social and community service managers' 'Emergency management directors'\n",
            " 'Other managers'\n",
            " 'Agents and business managers of artists, performers, and athletes'\n",
            " 'Buyers and purchasing agents, farm products'\n",
            " 'Wholesale and retail buyers, except farm products'\n",
            " 'Purchasing agents, except wholesale, retail, and farm products'\n",
            " 'Claims adjusters, appraisers, examiners, and investigators'\n",
            " 'Compliance officers' 'Cost estimators' 'Human resources workers'\n",
            " 'Compensation, benefits, and job analysis specialists'\n",
            " 'Training and development specialists' 'Logisticians'\n",
            " 'Project management specialists' 'Management analysts'\n",
            " 'Meeting, convention, and event planners' 'Fundraisers'\n",
            " 'Market research analysts and marketing specialists'\n",
            " 'Business operations specialists, all other' 'Accountants and auditors'\n",
            " 'Other financial specialists' 'Budget analysts' 'Credit analysts'\n",
            " 'Financial and investment analysts'\n",
            " 'Tax examiners and collectors, and revenue agents'\n",
            " 'Computer and information research scientists and analysts'\n",
            " 'Software and web developers, programmers, and testers'\n",
            " 'Other computer occupations'\n",
            " 'Database and network administrators and architects'\n",
            " 'Mathematical science occupations'\n",
            " 'Architects, surveyors, and cartographers' 'Aerospace engineers'\n",
            " 'Bioengineers, biomedical and agricultural engineers'\n",
            " 'Chemical engineers' 'Civil engineers' 'Computer hardware engineers'\n",
            " 'Electrical and electronics engineers' 'Environmental engineers'\n",
            " 'Industrial engineers, including health and safety'\n",
            " 'Marine engineers and naval architects' 'Materials engineers'\n",
            " 'Mechanical engineers'\n",
            " 'Petroleum, mining and geological engineers, including mining safety engineers'\n",
            " 'Other engineers'\n",
            " 'Drafters, engineering technicians, and mapping technicians'\n",
            " 'Agricultural and food scientists' 'Biological scientists'\n",
            " 'Conservation scientists and foresters' 'Other life scientists'\n",
            " 'Astronomers and physicists' 'Atmospheric and space scientists'\n",
            " 'Chemists and materials scientists'\n",
            " 'Environmental scientists and geoscientists'\n",
            " 'Physical scientists, all other' 'Economists' 'Psychologists'\n",
            " 'Other social scientists and related workers, including urban and regional planners'\n",
            " 'Life, physical, and social science technicians'\n",
            " 'Occupational health and safety specialists and technicians'\n",
            " 'Counselors, social workers, and other community and social service specialists'\n",
            " 'Probation officers and correctional treatment specialists'\n",
            " 'Religious workers' 'Lawyers, judges, and related workers'\n",
            " 'Legal support workers' 'Postsecondary teachers'\n",
            " 'Preschool and kindergarten teachers'\n",
            " 'Elementary and middle school teachers' 'Secondary school teachers'\n",
            " 'Special education teachers'\n",
            " 'Other teachers and instructors, education, training, and library workers'\n",
            " 'Librarians, curators, and archivists' 'Teaching assistants'\n",
            " 'Art and design workers'\n",
            " 'Other entertainers and performers, sports, and related workers'\n",
            " 'Athletes, coaches, umpires, and related workers'\n",
            " 'Other media and communication workers'\n",
            " 'News analysts, reporters, and journalists' 'Editors' 'Technical writers'\n",
            " 'Writers and authors' 'Other media and communication equipment workers'\n",
            " 'Photographers'\n",
            " 'Television, video, and film camera operators and editors'\n",
            " 'Chiropractors' 'Dentists' 'Dietitians and nutritionists' 'Optometrists'\n",
            " 'Pharmacists' 'Physicians and surgeons' 'Physician assistants'\n",
            " 'Podiatrists' 'Audiologists' 'Other therapists' 'Physical therapists'\n",
            " 'Radiation therapists' 'Speech-language pathologists' 'Veterinarians'\n",
            " 'Registered nurses' 'Other nurses'\n",
            " 'Miscellaneous healthcare diagnosing or treating practitioners'\n",
            " 'Other health technologists and technicians'\n",
            " 'Emergency medical technicians and paramedics'\n",
            " 'Medical records specialists' 'Opticians, dispensing'\n",
            " 'Other healthcare practitioners and technical occupations'\n",
            " 'Nursing, psychiatric, and home health aides'\n",
            " 'Occupational therapy and physical therapist assistants and aides'\n",
            " 'Other healthcare support occupations'\n",
            " 'First-line supervisors of law enforcement workers'\n",
            " 'First-line supervisors of firefighting and prevention workers'\n",
            " 'Miscellaneous first-line supervisors, protective service workers'\n",
            " 'Firefighting and prevention workers'\n",
            " 'Bailiffs, correctional officers, and jailers'\n",
            " 'Detectives and criminal investigators'\n",
            " 'Fish and game wardens and parking enforcement officers'\n",
            " 'Police officers' 'Other protective service workers'\n",
            " 'Private detectives, investigators, security guards and gaming surveillance officers'\n",
            " 'Transportation security screeners'\n",
            " 'Supervisors of food preparation and serving workers'\n",
            " 'Cooks and food preparation workers' 'Bartenders'\n",
            " 'Fast food and counter workers, and food servers, nonrestaurant'\n",
            " 'Waiters and waitresses'\n",
            " 'Other food preparation and serving related workers'\n",
            " 'Hosts and hostesses, restaurant, lounge, and coffee shop'\n",
            " 'First-line supervisors of housekeeping and janitorial workers'\n",
            " 'First-line supervisors of landscaping, lawn service, and groundskeeping workers'\n",
            " 'Building cleaning workers' 'Pest control workers'\n",
            " 'Grounds maintenance workers'\n",
            " 'Supervisors of personal care and service workers'\n",
            " 'Other personal care and service workers' 'Personal appearance workers'\n",
            " 'Baggage porters, bellhops, and concierges, and tour and travel guides'\n",
            " 'Childcare workers' 'First-line supervisors of retail sales workers'\n",
            " 'First-line supervisors of non-retail sales workers' 'Cashiers'\n",
            " 'Retail sales workers, except cashiers' 'Sales representatives, services'\n",
            " 'Sales representatives, wholesale and manufacturing'\n",
            " 'Other sales and related workers, except real estate brokers and sales agents'\n",
            " 'Real estate brokers and sales agents'\n",
            " 'First-line supervisors of office and administrative support workers'\n",
            " 'Communications equipment operators'\n",
            " 'Financial clerks, except bookkeeping, accounting, and auditing clerks'\n",
            " 'Bookkeeping, accounting, and auditing clerks'\n",
            " 'Information and record clerks, except customer service representatives'\n",
            " 'Customer service representatives'\n",
            " 'Material recording, scheduling, dispatching, and distributing workers'\n",
            " 'Meter readers, utilities' 'Postal service workers'\n",
            " 'Secretaries and administrative assistants'\n",
            " 'Other office and administrative support workers'\n",
            " 'First-line supervisors of farming, fishing, and forestry workers'\n",
            " 'Agricultural workers'\n",
            " 'Fishing and hunting, and forest and conservation, and logging workers'\n",
            " 'First-line supervisors of construction trades and extraction workers'\n",
            " 'Boilermakers'\n",
            " 'Brickmasons, blockmasons, stonemasons, and reinforcing iron and rebar workers'\n",
            " 'Carpenters' 'Carpet, floor, and tile installers and finishers'\n",
            " 'Cement masons, concrete finishers, and terrazzo workers'\n",
            " 'Construction laborers' 'Construction equipment operators'\n",
            " 'Drywall installers, ceiling tile installers, and tapers' 'Electricians'\n",
            " 'Glaziers' 'Insulation workers' 'Painters and paperhangers'\n",
            " 'Pipelayers, plumbers, pipefitters, and steamfitters'\n",
            " 'Plasterers and stucco masons' 'Roofers' 'Sheet metal workers'\n",
            " 'Structural iron and steel workers' 'Solar photovoltaic installers'\n",
            " 'Helpers, construction trades' 'Construction and building inspectors'\n",
            " 'Elevator and escalator installers and repairers' 'Fence erectors'\n",
            " 'Hazardous materials removal workers' 'Highway maintenance workers'\n",
            " 'Rail-track laying and maintenance equipment operators'\n",
            " 'Other construction and related workers'\n",
            " 'Derrick, rotary drill, and service unit operators, and roustabouts, oil, gas, and mining'\n",
            " 'Surface mining machine operators and earth drillers'\n",
            " 'Explosives workers, ordnance handling experts, and blasters'\n",
            " 'Underground mining machine operators' 'Other extraction workers'\n",
            " 'First-line supervisors of mechanics, installers, and repairers'\n",
            " 'Other installation, maintenance, and repair workers'\n",
            " 'Vehicle and mobile equipment mechanics, installers, and repairers'\n",
            " 'First-line supervisors of production and operating workers'\n",
            " 'Electrical, electronics, and electromechanical assemblers'\n",
            " 'Engine and other machine assemblers'\n",
            " 'Structural metal fabricators and fitters'\n",
            " 'Other assemblers and fabricators' 'Food processing workers'\n",
            " 'Metal workers and plastic workers' 'Printing workers'\n",
            " 'Textile, apparel, and furnishings workers' 'Woodworkers'\n",
            " 'Plant and system operators' 'Other production workers'\n",
            " 'Supervisors of transportation and material moving workers'\n",
            " 'Air transportation workers' 'Other motor vehicle operators'\n",
            " 'Bus drivers' 'Driver/sales workers and truck drivers'\n",
            " 'Rail and water transportation workers' 'Other transportation workers'\n",
            " 'Other material moving workers' 'Laborers and Material Movers']\n"
          ]
        }
      ]
    },
    {
      "cell_type": "code",
      "source": [
        "#flask implementation\n",
        "from flask import Flask\n",
        "from flask import request\n",
        "from flask import render_template\n",
        "\n",
        "app = Flask(__name__)\n",
        "\n",
        "@app.route('/', methods=['POST'])\n",
        "def getData():\n",
        "    selected_occupation = request.form.get('occupation')\n",
        "    selected_gender = request.form.get('gender')\n",
        "    selected_race = request.form.get('race')\n",
        "\n",
        "    percent_gender = \"Percent \" + selected_gender\n",
        "\n",
        "    # Get percentages for the selected inputs\n",
        "    returned_percentage = data[(data['Occupation'] == selected_occupation) & (data['Gender'] == percent_gender)][selected_race] #.values[0]\n",
        "\n",
        "    if (selected_gender == 'Male' | selected_gender == 'Female'):\n",
        "      gender_heading = 'Median Earnings - ' + selected_gender\n",
        "    else:\n",
        "      gender_heading = 'Median Earnings - Both Sexes'\n",
        "\n",
        "    # Get salary for the selected inputs\n",
        "    returned_salary = data[(data['Occupation'] == selected_occupation) & (data['Gender'] == gender_heading)][selected_race] #.values[0]\n",
        "\n",
        "\n",
        "    return render_template('return.html', salary=returned_salary, percentage=returned_percentage)\n",
        "\n",
        "if __name__ == '__main__':\n",
        "    app.run(debug=True)"
      ],
      "metadata": {
        "id": "yqEFixPsMvWR",
        "colab": {
          "base_uri": "https://localhost:8080/"
        },
        "outputId": "2410997f-3c69-447e-d3fc-12b955666153"
      },
      "execution_count": null,
      "outputs": [
        {
          "output_type": "stream",
          "name": "stdout",
          "text": [
            " * Serving Flask app '__main__'\n",
            " * Debug mode: on\n"
          ]
        },
        {
          "output_type": "stream",
          "name": "stderr",
          "text": [
            "INFO:werkzeug:\u001b[31m\u001b[1mWARNING: This is a development server. Do not use it in a production deployment. Use a production WSGI server instead.\u001b[0m\n",
            " * Running on http://127.0.0.1:5000\n",
            "INFO:werkzeug:\u001b[33mPress CTRL+C to quit\u001b[0m\n",
            "INFO:werkzeug: * Restarting with stat\n"
          ]
        }
      ]
    }
  ]
}